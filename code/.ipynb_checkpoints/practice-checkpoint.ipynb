{
 "cells": [
  {
   "cell_type": "code",
   "execution_count": 6,
   "metadata": {},
   "outputs": [
    {
     "name": "stdout",
     "output_type": "stream",
     "text": [
      "#Day,Time,Seoul_Jongno-gu,Seoul_Jung-gu,Seoul_Yongsan-gu,Seoul_Seongdong-gu,Seoul_Gwangjin-gu,Seoul_Dongdaemun-gu, Seoul_Jungnang-gu,Seoul_Seongbuk-gu,Seoul_Gangbuk-gu,Seoul_Dobong-gu,Seoul_Nowon-gu,Seoul_Eunpyeong-gu,Seoul_Seodaemun-gu,Seoul_Mapo-gu,Seoul_Yangcheon-gu,Seoul_Gangseo-gu,Seoul_Guro-gu,Seoul_Geumcheon-gu,Seoul_Yeongdeungpo-gu,Seoul_Dongjak-gu,Seoul_Gwanak-gu,Seoul_Seocho-gu,Seoul_Gangnam-gu,Seoul_Songpa-gu,Seoul_Gangdong-gu,\n",
      " <class 'str'>\n"
     ]
    }
   ],
   "source": [
    "f= open(\"/Users/yeseo/desktop/City_Counted_TaxiMach_Link_Dataset_Full_201709.txt\")\n",
    "s = f.readline()\n",
    "print (s,type(s))"
   ]
  },
  {
   "cell_type": "code",
   "execution_count": 9,
   "metadata": {},
   "outputs": [
    {
     "name": "stdout",
     "output_type": "stream",
     "text": [
      "1,2,7469,7684,10516,9401,10761,10734,9693,11342,8811,7233,10787,8874,8198,12204,9031,10620,8931,5437,11140,9378,12178,11045,14587,11159,8619,\n",
      " <class 'str'>\n"
     ]
    }
   ],
   "source": [
    "s = f.readline()\n",
    "print (s,type(s))"
   ]
  },
  {
   "cell_type": "code",
   "execution_count": 10,
   "metadata": {},
   "outputs": [
    {
     "data": {
      "text/plain": [
       "'8'"
      ]
     },
     "execution_count": 10,
     "metadata": {},
     "output_type": "execute_result"
    }
   ],
   "source": [
    "s[11]"
   ]
  },
  {
   "cell_type": "code",
   "execution_count": null,
   "metadata": {},
   "outputs": [],
   "source": []
  }
 ],
 "metadata": {
  "kernelspec": {
   "display_name": "Python 3",
   "language": "python",
   "name": "python3"
  },
  "language_info": {
   "codemirror_mode": {
    "name": "ipython",
    "version": 3
   },
   "file_extension": ".py",
   "mimetype": "text/x-python",
   "name": "python",
   "nbconvert_exporter": "python",
   "pygments_lexer": "ipython3",
   "version": "3.6.7"
  }
 },
 "nbformat": 4,
 "nbformat_minor": 2
}
