{
 "cells": [
  {
   "cell_type": "markdown",
   "metadata": {},
   "source": [
    "# make bit stream"
   ]
  },
  {
   "cell_type": "code",
   "execution_count": 1,
   "metadata": {},
   "outputs": [],
   "source": [
    "import math\n",
    "import random\n",
    "import numpy as np\n",
    "\n",
    "f = open('C:\\\\Users\\\\OYT\\\\Desktop\\\\seoul_taxi\\\\TaxiMach_Link_Dataset_Full_201709.txt','r')\n",
    "i = 0\n",
    "# xy = np.genfromtxt('C:\\\\Users\\\\OYT\\\\Desktop\\seoul_taxi\\\\TaxiMach_Link_Dataset_Full_201709.txt',delimiter = ',',dtype = None)\n",
    "\n",
    "sum_of_taxi = np.zeros(25)\n",
    "\n",
    "curr = 0\n",
    "i = 0"
   ]
  },
  {
   "cell_type": "code",
   "execution_count": 2,
   "metadata": {},
   "outputs": [
    {
     "ename": "IndexError",
     "evalue": "too many indices for array",
     "output_type": "error",
     "traceback": [
      "\u001b[1;31m---------------------------------------------------------------------------\u001b[0m",
      "\u001b[1;31mIndexError\u001b[0m                                Traceback (most recent call last)",
      "\u001b[1;32m<ipython-input-2-4bff17e28b90>\u001b[0m in \u001b[0;36m<module>\u001b[1;34m\u001b[0m\n\u001b[0;32m     68\u001b[0m     \u001b[0msum_of_taxi\u001b[0m \u001b[1;33m+=\u001b[0m \u001b[0ma\u001b[0m\u001b[1;33m\u001b[0m\u001b[0m\n\u001b[0;32m     69\u001b[0m \u001b[1;33m\u001b[0m\u001b[0m\n\u001b[1;32m---> 70\u001b[1;33m     \u001b[1;32mif\u001b[0m \u001b[0mxy\u001b[0m\u001b[1;33m[\u001b[0m\u001b[0mi\u001b[0m\u001b[1;33m,\u001b[0m\u001b[1;36m3\u001b[0m\u001b[1;33m]\u001b[0m \u001b[1;33m!=\u001b[0m \u001b[0mxy\u001b[0m\u001b[1;33m[\u001b[0m\u001b[0mi\u001b[0m\u001b[1;33m+\u001b[0m\u001b[1;36m1\u001b[0m\u001b[1;33m,\u001b[0m\u001b[1;36m3\u001b[0m\u001b[1;33m]\u001b[0m\u001b[1;33m:\u001b[0m\u001b[1;33m\u001b[0m\u001b[0m\n\u001b[0m\u001b[0;32m     71\u001b[0m         \u001b[0mnp\u001b[0m\u001b[1;33m.\u001b[0m\u001b[0msavetxt\u001b[0m\u001b[1;33m(\u001b[0m\u001b[1;34m\"C:\\\\Users\\\\OYT\\\\Desktop\\\\seoul_taxi\\\\NewDataset.txt\"\u001b[0m\u001b[1;33m,\u001b[0m\u001b[0msum_of_taxi\u001b[0m\u001b[1;33m,\u001b[0m\u001b[0mfmt\u001b[0m\u001b[1;33m=\u001b[0m\u001b[1;34m'%,3f'\u001b[0m\u001b[1;33m,\u001b[0m\u001b[0mdelimeter\u001b[0m \u001b[1;33m=\u001b[0m \u001b[1;34m','\u001b[0m\u001b[1;33m)\u001b[0m\u001b[1;33m\u001b[0m\u001b[0m\n\u001b[0;32m     72\u001b[0m         \u001b[0msum_of_taxi\u001b[0m \u001b[1;33m=\u001b[0m \u001b[0mnp\u001b[0m\u001b[1;33m.\u001b[0m\u001b[0mzeros\u001b[0m\u001b[1;33m(\u001b[0m\u001b[1;36m25\u001b[0m\u001b[1;33m)\u001b[0m\u001b[1;33m\u001b[0m\u001b[0m\n",
      "\u001b[1;31mIndexError\u001b[0m: too many indices for array"
     ]
    }
   ],
   "source": [
    "for s in f:\n",
    "    s = f.readline()\n",
    "    xy = np.array([s.split(',')[0],s.split(',')[1],s.split(',')[2],s.split(',')[4]])\n",
    "    a = np.zeros(25)\n",
    "    if xy[3]==1111 :\n",
    "        a[0]=1\n",
    "    elif xy [3] == 1114:\n",
    "        a[1]=1\n",
    "    elif xy [3] == 1117:\n",
    "        a[2]=1\n",
    "    elif xy [3] == 1120:\n",
    "        a[3]=1\n",
    "    elif xy [3] == 1121:\n",
    "        a[4]=1\n",
    "    elif xy [3] == 1123:\n",
    "        a[5]=1\n",
    "    elif xy [3] == 1126:\n",
    "        a[6]=1\n",
    "    elif xy [3] == 1129:\n",
    "        a[7]=1\n",
    "    elif xy [3] == 1130:\n",
    "        a[8]=1\n",
    "    elif xy [3] == 1132:\n",
    "        a[9]=1\n",
    "    elif xy [3] == 1135:\n",
    "        a[10]=1\n",
    "    elif xy [3] == 1138:\n",
    "        a[11]=1\n",
    "    elif xy [3] == 1141:\n",
    "        a[12]=1\n",
    "    elif xy [3] == 1144:\n",
    "        a[13]=1\n",
    "    elif xy [3] == 1147:\n",
    "        a[14]=1\n",
    "    elif xy [3] == 1150:\n",
    "        a[15]=1\n",
    "    elif xy [3] == 1153:\n",
    "        a[16]=1\n",
    "    elif xy [3] == 1154:\n",
    "        a[17]=1\n",
    "    elif xy [3] == 1156:\n",
    "        a[18]=1\n",
    "    elif xy [3] == 1159:\n",
    "        a[19]=1\n",
    "    elif xy [3] == 1162:\n",
    "        a[20]=1\n",
    "    elif xy [3] == 1165:\n",
    "        a[21]=1\n",
    "    elif xy [3] == 1168:\n",
    "        a[22]=1\n",
    "    elif xy [3] == 1171:\n",
    "        a[23]=1\n",
    "    elif xy [3] == 1174:\n",
    "        a[24]=1\n",
    "    \n",
    "    i += 1\n",
    "    for j in range(len(a)):\n",
    "        f = random.random()\n",
    "        epsilon = 1\n",
    "        e = math.exp(epsilon)\n",
    "        if a[j] == 1:\n",
    "            if f > 0.5:\n",
    "                a[j] = 0\n",
    "        else:\n",
    "            if f < 1/(e+1):\n",
    "                a[j]=1\n",
    "            \n",
    "    sum_of_taxi += a\n",
    "    \n",
    "    if xy[2] != xy[i+1,3]:\n",
    "        np.savetxt(\"C:\\\\Users\\\\OYT\\\\Desktop\\\\seoul_taxi\\\\NewDataset.txt\",sum_of_taxi,fmt='%,3f',delimeter = ',')\n",
    "        sum_of_taxi = np.zeros(25)"
   ]
  },
  {
   "cell_type": "code",
   "execution_count": null,
   "metadata": {},
   "outputs": [],
   "source": []
  }
 ],
 "metadata": {
  "kernelspec": {
   "display_name": "Python 3",
   "language": "python",
   "name": "python3"
  },
  "language_info": {
   "codemirror_mode": {
    "name": "ipython",
    "version": 3
   },
   "file_extension": ".py",
   "mimetype": "text/x-python",
   "name": "python",
   "nbconvert_exporter": "python",
   "pygments_lexer": "ipython3",
   "version": "3.5.4"
  }
 },
 "nbformat": 4,
 "nbformat_minor": 2
}
