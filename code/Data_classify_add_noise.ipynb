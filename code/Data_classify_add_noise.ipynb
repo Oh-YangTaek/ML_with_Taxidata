{
 "cells": [
  {
   "cell_type": "markdown",
   "metadata": {},
   "source": [
    "# make bit stream"
   ]
  },
  {
   "cell_type": "code",
   "execution_count": 1,
   "metadata": {},
   "outputs": [],
   "source": [
    "import math\n",
    "import random\n",
    "import numpy as np\n",
    "\n",
    "fr = open('C:\\\\Users\\\\OYT\\\\Desktop\\\\seoul_taxi\\\\TaxiMach_Link_Dataset_Full_201709.txt','r')\n",
    "\n",
    "sum_of_taxi = np.zeros(25)\n",
    "\n",
    "newdata = [[]]\n",
    "newdata = np.array(newdata)\n",
    "s = fr.readline()\n",
    "curr = '00'\n",
    "index = '00'"
   ]
  },
  {
   "cell_type": "code",
   "execution_count": 7,
   "metadata": {},
   "outputs": [
    {
     "ename": "ValueError",
     "evalue": "non-broadcastable output operand with shape (25,) doesn't match the broadcast shape (1,25)",
     "output_type": "error",
     "traceback": [
      "\u001b[1;31m---------------------------------------------------------------------------\u001b[0m",
      "\u001b[1;31mValueError\u001b[0m                                Traceback (most recent call last)",
      "\u001b[1;32m<ipython-input-7-e01382946694>\u001b[0m in \u001b[0;36m<module>\u001b[1;34m\u001b[0m\n\u001b[0;32m     69\u001b[0m                 \u001b[0ma\u001b[0m\u001b[1;33m[\u001b[0m\u001b[1;36m0\u001b[0m\u001b[1;33m,\u001b[0m\u001b[0mj\u001b[0m\u001b[1;33m]\u001b[0m\u001b[1;33m=\u001b[0m\u001b[1;36m1\u001b[0m\u001b[1;33m\u001b[0m\u001b[0m\n\u001b[0;32m     70\u001b[0m \u001b[1;33m\u001b[0m\u001b[0m\n\u001b[1;32m---> 71\u001b[1;33m     \u001b[0msum_of_taxi\u001b[0m \u001b[1;33m+=\u001b[0m \u001b[0ma\u001b[0m\u001b[1;33m\u001b[0m\u001b[0m\n\u001b[0m\u001b[0;32m     72\u001b[0m     \u001b[1;32mif\u001b[0m \u001b[0mcurr\u001b[0m \u001b[1;33m!=\u001b[0m \u001b[0mindex\u001b[0m\u001b[1;33m:\u001b[0m\u001b[1;33m\u001b[0m\u001b[0m\n\u001b[0;32m     73\u001b[0m         \u001b[0mnewdata\u001b[0m \u001b[1;33m=\u001b[0m \u001b[0mnp\u001b[0m\u001b[1;33m.\u001b[0m\u001b[0mappend\u001b[0m\u001b[1;33m(\u001b[0m\u001b[0mnewdata\u001b[0m\u001b[1;33m,\u001b[0m\u001b[0msum_of_taxi\u001b[0m\u001b[1;33m,\u001b[0m\u001b[0maxis\u001b[0m\u001b[1;33m=\u001b[0m\u001b[1;36m0\u001b[0m\u001b[1;33m)\u001b[0m\u001b[1;33m\u001b[0m\u001b[0m\n",
      "\u001b[1;31mValueError\u001b[0m: non-broadcastable output operand with shape (25,) doesn't match the broadcast shape (1,25)"
     ]
    }
   ],
   "source": [
    "for i in range(1000):\n",
    "    s = fr.readline()\n",
    "    xy = np.array([s.split(',')[0],s.split(',')[1],s.split(',')[2],s.split(',')[4]])\n",
    "    \n",
    "    curr = xy[2]\n",
    "    \n",
    "    a = np.zeros((1,25))\n",
    "   \n",
    "    if xy[3]==1111 :\n",
    "        a[0]=1\n",
    "    elif xy [3] == 1114:\n",
    "        a[1]=1\n",
    "    elif xy [3] == 1117:\n",
    "        a[2]=1\n",
    "    elif xy [3] == 1120:\n",
    "        a[3]=1\n",
    "    elif xy [3] == 1121:\n",
    "        a[4]=1\n",
    "    elif xy [3] == 1123:\n",
    "        a[5]=1\n",
    "    elif xy [3] == 1126:\n",
    "        a[6]=1\n",
    "    elif xy [3] == 1129:\n",
    "        a[7]=1\n",
    "    elif xy [3] == 1130:\n",
    "        a[8]=1\n",
    "    elif xy [3] == 1132:\n",
    "        a[9]=1\n",
    "    elif xy [3] == 1135:\n",
    "        a[10]=1\n",
    "    elif xy [3] == 1138:\n",
    "        a[11]=1\n",
    "    elif xy [3] == 1141:\n",
    "        a[12]=1\n",
    "    elif xy [3] == 1144:\n",
    "        a[13]=1\n",
    "    elif xy [3] == 1147:\n",
    "        a[14]=1\n",
    "    elif xy [3] == 1150:\n",
    "        a[15]=1\n",
    "    elif xy [3] == 1153:\n",
    "        a[16]=1\n",
    "    elif xy [3] == 1154:\n",
    "        a[17]=1\n",
    "    elif xy [3] == 1156:\n",
    "        a[18]=1\n",
    "    elif xy [3] == 1159:\n",
    "        a[19]=1\n",
    "    elif xy [3] == 1162:\n",
    "        a[20]=1\n",
    "    elif xy [3] == 1165:\n",
    "        a[21]=1\n",
    "    elif xy [3] == 1168:\n",
    "        a[22]=1\n",
    "    elif xy [3] == 1171:\n",
    "        a[23]=1\n",
    "    elif xy [3] == 1174:\n",
    "        a[24]=1\n",
    "    \n",
    "    for j in range(len(a)):\n",
    "        f = random.random()\n",
    "        epsilon = 1\n",
    "        e = math.exp(epsilon)\n",
    "        if a[0,j] == 1:\n",
    "            if f > 0.5:\n",
    "                a[0,j] = 0\n",
    "        else:\n",
    "            if f < 1/(e+1):\n",
    "                a[0,j]=1\n",
    "            \n",
    "    sum_of_taxi += a\n",
    "    if curr != index:\n",
    "        newdata = np.append(newdata,sum_of_taxi,axis=0)\n",
    "        sum_of_taxi = np.zeros((1,25))\n",
    "        \n",
    "    index = xy[2]"
   ]
  },
  {
   "cell_type": "code",
   "execution_count": 3,
   "metadata": {},
   "outputs": [
    {
     "name": "stdout",
     "output_type": "stream",
     "text": [
      "[4. 7. 6. ... 5. 3. 3.]\n"
     ]
    }
   ],
   "source": [
    "print(newdata)\n",
    "np.savetxt(\"C:\\\\Users\\\\OYT\\\\Desktop\\\\seoul_taxi\\\\NewDataset.txt\",newdata,fmt='%.f',delimiter = ',')"
   ]
  },
  {
   "cell_type": "code",
   "execution_count": null,
   "metadata": {},
   "outputs": [],
   "source": []
  }
 ],
 "metadata": {
  "kernelspec": {
   "display_name": "Python 3",
   "language": "python",
   "name": "python3"
  },
  "language_info": {
   "codemirror_mode": {
    "name": "ipython",
    "version": 3
   },
   "file_extension": ".py",
   "mimetype": "text/x-python",
   "name": "python",
   "nbconvert_exporter": "python",
   "pygments_lexer": "ipython3",
   "version": "3.5.4"
  }
 },
 "nbformat": 4,
 "nbformat_minor": 2
}
