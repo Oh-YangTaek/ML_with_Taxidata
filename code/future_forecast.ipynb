{
 "cells": [
  {
   "cell_type": "code",
   "execution_count": 1,
   "metadata": {},
   "outputs": [
    {
     "name": "stdout",
     "output_type": "stream",
     "text": [
      "WARNING:tensorflow:From <ipython-input-1-283d16abbfe4>:70: BasicLSTMCell.__init__ (from tensorflow.python.ops.rnn_cell_impl) is deprecated and will be removed in a future version.\n",
      "Instructions for updating:\n",
      "This class is deprecated, please use tf.nn.rnn_cell.LSTMCell, which supports all the feature this cell currently has. Please replace the existing code with tf.nn.rnn_cell.LSTMCell(name='basic_lstm_cell').\n",
      "WARNING:tensorflow:At least two cells provided to MultiRNNCell are the same object and will share weights.\n",
      "[step: 0] loss: 0.17290590703487396\n",
      "[step: 500] loss: 0.004770060535520315\n",
      "[step: 1000] loss: 0.0010872113052755594\n",
      "[step: 1500] loss: 0.0007264502346515656\n",
      "[step: 2000] loss: 0.0005922699347138405\n",
      "[step: 2500] loss: 0.0004762282769661397\n",
      "[step: 3000] loss: 0.00042068600305356085\n",
      "[step: 3500] loss: 0.0003649230638984591\n",
      "[step: 4000] loss: 0.0003050308732781559\n"
     ]
    }
   ],
   "source": [
    "import math\n",
    "import tensorflow as tf\n",
    "import numpy as np\n",
    "import matplotlib as mpl\n",
    "from mpl_toolkits.mplot3d import Axes3D\n",
    "import os\n",
    "from tensorflow.contrib import rnn\n",
    "\n",
    "\n",
    "tf.reset_default_graph()\n",
    "tf.set_random_seed(777)\n",
    "\n",
    "if \"DISPLAY\" not in os.environ:\n",
    "    mpl.use('TkAgg')\n",
    "\n",
    "import matplotlib.pyplot as plt\n",
    "\n",
    "def MinMaxScaler(data):\n",
    "    numerator = data - np.min(data,0)\n",
    "    denominator = np.max(data,0)-np.min(data,0)\n",
    "    return numerator / (denominator+1e-7)\n",
    "\n",
    "xy = np.genfromtxt('/Users/yeseo/Desktop/City_Counted_TaxiMach_Link_Dataset_Full_201501 - 12.txt',delimiter = ',',dtype = None)\n",
    "\n",
    "train_size = int(len(xy)*0.7)\n",
    "\n",
    "xy= xy[:,:27]\n",
    "\n",
    "test_set = xy[train_size:]\n",
    "\n",
    "a = xy[:,:2]\n",
    "b = xy[:,2:]\n",
    "data_max = np.max(b,1)\n",
    "data_min = np.min(b,1)\n",
    "b= MinMaxScaler(b)\n",
    "xy = np.hstack((a,b))\n",
    "\n",
    "seq_length =6\n",
    "data_dim =27\n",
    "hidden_dim = 27\n",
    "output_dim = 25\n",
    "learning_rate = 0.1\n",
    "iterations = 4001\n",
    "\n",
    "train_set = xy[:train_size]\n",
    "\n",
    "\n",
    "def build_dataset(time_series, seq_length):\n",
    "    dataX = []\n",
    "    dataY = []\n",
    "    for i in range (0,len(time_series)-seq_length):\n",
    "        _x = time_series[i:i + seq_length, :]\n",
    "        _y = time_series[i+seq_length,2:]\n",
    "     \n",
    "        dataX.append(_x)\n",
    "        dataY.append(_y)\n",
    "    return np.array(dataX), np.array(dataY)\n",
    "\n",
    "#train_set, test_set 만들기\n",
    "trainX, trainY = build_dataset(train_set,seq_length)\n",
    "testX,testY = build_dataset(test_set, seq_length)\n",
    "\n",
    "\n",
    "\n",
    "X1 = tf.placeholder(tf.float32,[None, seq_length,data_dim])\n",
    "Y1 = tf.placeholder(tf.float32,[None,25])\n",
    "\n",
    "#LSTM CELL만들기\n",
    "with tf.variable_scope(\"rnn1\"):\n",
    "    cell1 = tf.contrib.rnn.BasicLSTMCell(num_units=hidden_dim, state_is_tuple = True, activation=tf.tanh)\n",
    "    multi_cell1 = tf.contrib.rnn.MultiRNNCell([cell1]*5)\n",
    "    outputs1,_states1 = tf.nn.dynamic_rnn(multi_cell1,X1,dtype = tf.float32)\n",
    "    Y_pred = tf.contrib.layers.fully_connected(outputs1[:,-1], output_dim,activation_fn = None)\n",
    "\n",
    "    loss1 =tf.reduce_mean(tf.square(Y_pred-Y1))\n",
    "    train1 = tf.train.AdamOptimizer(learning_rate = learning_rate).minimize(loss1)\n",
    "\n",
    "x1 = np.array([1,2,3,4,5,6,7,8,9,10,11,12,13,14,15,16,17,18,19,20,21,22,23,24,25])*2\n",
    "x2 = x1+0.33*2\n",
    "x3 = x2+0.33*2\n",
    "\n",
    "with tf.Session() as sess:\n",
    "    sess.run(tf.global_variables_initializer())\n",
    "\n",
    "    for i in range(iterations):\n",
    "        _, step_loss1 = sess.run([train1,loss1],feed_dict={X1:trainX, Y1:trainY})\n",
    "        if i%500 == 0:\n",
    "            print(\"[step: {}] loss: {}\".format(i,step_loss1))\n",
    "\n",
    "    \n",
    "    #7th value from initial data\n",
    "    test_predict = sess.run(Y_pred, feed_dict = {X1:[testX[0,:,:]]})\n",
    "    \n",
    "    #initial data shape = 6,27\n",
    "    initial_data = testX[0,:,:]\n",
    "    \n",
    "    \n",
    "    #day&time for 7th data\n",
    "    if initial_data[5,1] != 47:\n",
    "        day_time = np.array([[initial_data[5,0],(initial_data[5,1]+1)]])\n",
    "    else:\n",
    "        if initial_data[5,0] == 7:\n",
    "            day_time = np.array([[1,0]])\n",
    "        else:\n",
    "            day_time = np.array([[(initial_data[5,0]+1),0]])\n",
    "            \n",
    "    #make 7th data\n",
    "    seventh_data = np.hstack((day_time,test_predict))\n",
    "    \n",
    "    #1~5 data + 7th data\n",
    "    new_testX = np.vstack((initial_data[1:,:],seventh_data))\n",
    "        \n",
    "    for j in range(len(testX)-1):\n",
    "        #8th value from second data\n",
    "        temp = sess.run(Y_pred,feed_dict = {X1:[new_testX]})\n",
    "        \n",
    "        test_predict = np.vstack((test_predict,temp))\n",
    "        \n",
    "        if new_testX[5,1] != 47:\n",
    "            day_time = np.array([[new_testX[5,0],(new_testX[5,1]+1)]])\n",
    "        else:\n",
    "            if new_testX[5,0] == 7:\n",
    "                day_time = np.array([[1,0]])\n",
    "            else:\n",
    "                day_time = np.array([[(new_testX[5,0]+1),0]])\n",
    "                \n",
    "        seventh_data = np.hstack((day_time,test_predict[[-1],:]))\n",
    "        new_testX = np.vstack((new_testX[1:,:],seventh_data))\n",
    "        \n",
    "        \n",
    "        \n",
    "        \n"
   ]
  },
  {
   "cell_type": "code",
   "execution_count": 5,
   "metadata": {},
   "outputs": [
    {
     "data": {
      "text/plain": [
       "((1, 2), (1204, 25), (1204, 25))"
      ]
     },
     "execution_count": 5,
     "metadata": {},
     "output_type": "execute_result"
    }
   ],
   "source": [
    "np.shape(day_time), np.shape(test_predict),np.shape(testY)"
   ]
  },
  {
   "cell_type": "code",
   "execution_count": 3,
   "metadata": {},
   "outputs": [],
   "source": [
    "def ReturnToOriginal(data,data_max,data_min):\n",
    "    #og = data*(data_max+1e-7)-data_min*(data-1)\n",
    "    data_max = data_max+(1e-7)\n",
    "    for i in range(0,len(data)):\n",
    "        data[i,:]= (data[i,:]*data_max[i])-(data[i,:]-1)*data_min[i]\n",
    "    return data\n",
    "\n",
    "test_predict_to_original = ReturnToOriginal(test_predict,data_max[train_size+seq_length:],data_min[train_size+seq_length:])\n",
    "#testY_to_original = ReturnToOriginal(testY,data_max[train_size+seq_length:],data_min[train_size+seq_length:])"
   ]
  },
  {
   "cell_type": "code",
   "execution_count": 4,
   "metadata": {},
   "outputs": [
    {
     "data": {
      "text/plain": [
       "array([[ 8712.184 ,  9656.146 , 10797.237 , ...,  9323.9375, 10269.972 ,\n",
       "        10145.069 ],\n",
       "       [ 9058.447 ,  9569.863 , 11435.064 , ...,  9571.143 , 10439.71  ,\n",
       "        10182.795 ],\n",
       "       [ 8528.131 ,  9307.904 , 10505.237 , ...,  8917.766 ,  9866.424 ,\n",
       "         9502.258 ],\n",
       "       ...,\n",
       "       [11450.856 , 11078.237 , 15230.325 , ..., 13166.075 , 14382.214 ,\n",
       "        14358.66  ],\n",
       "       [12580.159 , 11698.277 , 16795.379 , ..., 14151.662 , 15643.353 ,\n",
       "        15832.42  ],\n",
       "       [12176.481 , 11069.055 , 16259.075 , ..., 13440.471 , 15015.209 ,\n",
       "        15339.26  ]], dtype=float32)"
      ]
     },
     "execution_count": 4,
     "metadata": {},
     "output_type": "execute_result"
    }
   ],
   "source": [
    "test_predict"
   ]
  },
  {
   "cell_type": "code",
   "execution_count": 3,
   "metadata": {},
   "outputs": [
    {
     "data": {
      "text/plain": [
       "array([[ 8384, 10798, 10238, ..., 16611, 13497, 10030],\n",
       "       [ 7941,  9716,  9503, ..., 15653, 12989,  9823],\n",
       "       [ 9326, 10868,  9928, ..., 16364, 13762, 10774],\n",
       "       ...,\n",
       "       [ 9041,  9908, 12287, ..., 16500, 12015,  9102],\n",
       "       [ 9569, 10277, 13272, ..., 17977, 13299, 10179],\n",
       "       [ 9594,  9757, 13118, ..., 17758, 13227, 10024]])"
      ]
     },
     "execution_count": 3,
     "metadata": {},
     "output_type": "execute_result"
    }
   ],
   "source": [
    "testY"
   ]
  },
  {
   "cell_type": "code",
   "execution_count": 5,
   "metadata": {},
   "outputs": [
    {
     "data": {
      "text/plain": [
       "array([[ 8712.184 ,  9656.146 , 10797.237 , ...,  9323.9375, 10269.972 ,\n",
       "        10145.069 ],\n",
       "       [ 9058.447 ,  9569.863 , 11435.064 , ...,  9571.143 , 10439.71  ,\n",
       "        10182.795 ],\n",
       "       [ 8528.131 ,  9307.904 , 10505.237 , ...,  8917.766 ,  9866.424 ,\n",
       "         9502.258 ],\n",
       "       ...,\n",
       "       [11450.856 , 11078.237 , 15230.325 , ..., 13166.075 , 14382.214 ,\n",
       "        14358.66  ],\n",
       "       [12580.159 , 11698.277 , 16795.379 , ..., 14151.662 , 15643.353 ,\n",
       "        15832.42  ],\n",
       "       [12176.481 , 11069.055 , 16259.075 , ..., 13440.471 , 15015.209 ,\n",
       "        15339.26  ]], dtype=float32)"
      ]
     },
     "execution_count": 5,
     "metadata": {},
     "output_type": "execute_result"
    }
   ],
   "source": [
    "test_predict_to_original"
   ]
  },
  {
   "cell_type": "code",
   "execution_count": 6,
   "metadata": {},
   "outputs": [],
   "source": [
    "acc = (np.sum(np.square(test_predict-testY)))/(np.shape(test_predict)[0]*np.shape(test_predict)[1])"
   ]
  },
  {
   "cell_type": "code",
   "execution_count": 7,
   "metadata": {},
   "outputs": [
    {
     "data": {
      "text/plain": [
       "2477.044988654444"
      ]
     },
     "execution_count": 7,
     "metadata": {},
     "output_type": "execute_result"
    }
   ],
   "source": [
    "np.sqrt(acc)"
   ]
  },
  {
   "cell_type": "code",
   "execution_count": null,
   "metadata": {},
   "outputs": [],
   "source": []
  }
 ],
 "metadata": {
  "kernelspec": {
   "display_name": "Python 3",
   "language": "python",
   "name": "python3"
  },
  "language_info": {
   "codemirror_mode": {
    "name": "ipython",
    "version": 3
   },
   "file_extension": ".py",
   "mimetype": "text/x-python",
   "name": "python",
   "nbconvert_exporter": "python",
   "pygments_lexer": "ipython3",
   "version": "3.6.7"
  }
 },
 "nbformat": 4,
 "nbformat_minor": 2
}
