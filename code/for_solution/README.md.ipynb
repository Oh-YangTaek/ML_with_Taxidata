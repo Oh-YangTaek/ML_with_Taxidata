{
 "cells": [
  {
   "cell_type": "markdown",
   "metadata": {},
   "source": [
    "# code_for_solution\n",
    "## load data\n",
    "## data preprocessing\n",
    "## predict data(not for compare for real soultion\n",
    "## return to original\n",
    "## print with json format"
   ]
  },
  {
   "cell_type": "markdown",
   "metadata": {},
   "source": [
    "# for_output_to_json\n",
    "## better for make json format file"
   ]
  },
  {
   "cell_type": "code",
   "execution_count": null,
   "metadata": {},
   "outputs": [],
   "source": []
  }
 ],
 "metadata": {
  "kernelspec": {
   "display_name": "Python 3",
   "language": "python",
   "name": "python3"
  },
  "language_info": {
   "codemirror_mode": {
    "name": "ipython",
    "version": 3
   },
   "file_extension": ".py",
   "mimetype": "text/x-python",
   "name": "python",
   "nbconvert_exporter": "python",
   "pygments_lexer": "ipython3",
   "version": "3.6.7"
  }
 },
 "nbformat": 4,
 "nbformat_minor": 2
}
