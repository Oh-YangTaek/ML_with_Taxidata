{
 "cells": [
  {
   "cell_type": "code",
   "execution_count": 10,
   "metadata": {},
   "outputs": [
    {
     "name": "stdout",
     "output_type": "stream",
     "text": [
      "INFO:tensorflow:Restoring parameters from /Users/yeseo/ML_with_Taxidata/code/for_solution/model/my_model.ckpt\n"
     ]
    }
   ],
   "source": [
    "import math\n",
    "import tensorflow as tf\n",
    "import numpy as np\n",
    "import os\n",
    "from tensorflow.contrib import rnn\n",
    "\n",
    "tf.reset_default_graph()\n",
    "tf.set_random_seed(777)\n",
    "\n",
    "def MinMaxScaler(data):\n",
    "    numerator = data - np.min(data,0)\n",
    "    denominator = np.max(data,0)-np.min(data,0)\n",
    "    return numerator / (denominator+1e-7)\n",
    "\n",
    "xy = np.genfromtxt('/Users/yeseo/Desktop/taxi_data/City_Counted_TaxiMach_Link_Dataset_Full_201501 - 12.txt',delimiter = ',',dtype = None)\n",
    "\n",
    "#parameters\n",
    "seq_length =6\n",
    "train_size = int(len(xy)*0.7)\n",
    "validation_size = int(len(xy)*0.2)\n",
    "\n",
    "#data_preprocessing\n",
    "xy= xy[:,:27]\n",
    "test_set = xy[train_size:]\n",
    "a = xy[:,:2]\n",
    "b = xy[:,2:]\n",
    "data_max = np.max(b,1)\n",
    "data_min = np.min(b,1)\n",
    "b= MinMaxScaler(b)\n",
    "xy = np.hstack((a,b))\n",
    "train_set = xy[:train_size]\n",
    "\n",
    "\n",
    "#divide data set to train,validation and test set\n",
    "train_set = xy[:train_size]\n",
    "validation_set = xy[train_size:train_size+validation_size]\n",
    "test_set = xy[train_size+validation_size:]\n",
    "\n",
    "# build data set for learing\n",
    "def build_dataset(time_series, seq_length):\n",
    "    dataX = []\n",
    "    dataY = []\n",
    "    for i in range (0,len(time_series)-seq_length):\n",
    "        _x = time_series[i:i + seq_length, :]\n",
    "        _y = time_series[i+seq_length,2:]\n",
    "     \n",
    "        dataX.append(_x)\n",
    "        dataY.append(_y)\n",
    "    return np.array(dataX), np.array(dataY)\n",
    "\n",
    "#make train_set, validation_set, test_set \n",
    "trainX, trainY = build_dataset(train_set,seq_length)\n",
    "validationX, validationY = build_dataset(validation_set,seq_length)\n",
    "testX,testY = build_dataset(test_set, seq_length)\n",
    "\n",
    "saver = tf.train.import_meta_graph(\"/Users/yeseo/ML_with_Taxidata/code/for_solution/model/my_model.ckpt.meta\")\n",
    "with tf.Session() as sess:\n",
    "    saver.restore(sess,\"/Users/yeseo/ML_with_Taxidata/code/for_solution/model/my_model.ckpt\")\n",
    "    \n",
    "    graph = tf.get_default_graph()\n",
    "    X = graph.get_tensor_by_name(\"X:0\")\n",
    "    Y = graph.get_tensor_by_name(\"Y:0\")\n",
    "\n",
    "    Y_pred = graph.get_tensor_by_name(\"rnn/fully_connected/BiasAdd:0\")\n",
    "        \n",
    "    #7th value from initial data\n",
    "    test_predict = sess.run(Y_pred, feed_dict = {X:[testX[0,:,:]]})\n",
    "    \n",
    "    #initial data shape = 6,27\n",
    "    initial_data = testX[0,:,:]\n",
    "    \n",
    "    \n",
    "    #day&time for 7th data\n",
    "    if initial_data[5,1] != 47:\n",
    "        day_time = np.array([[initial_data[5,0],(initial_data[5,1]+1)]])\n",
    "    else:\n",
    "        if initial_data[5,0] == 7:\n",
    "            day_time = np.array([[1,0]])\n",
    "        else:\n",
    "            day_time = np.array([[(initial_data[5,0]+1),0]])\n",
    "    \n",
    "    time_array = day_time\n",
    "    \n",
    "    #make 7th data\n",
    "    seventh_data = np.hstack((day_time,test_predict))\n",
    "    \n",
    "    #1~5 data + 7th data\n",
    "    new_testX = np.vstack((initial_data[1:,:],seventh_data))\n",
    "    \n",
    "    #select range to predict\n",
    "    for j in range(48):\n",
    "        #8th value from second data\n",
    "        temp = sess.run(Y_pred,feed_dict = {X:[new_testX]})\n",
    "        \n",
    "        test_predict = np.vstack((test_predict,temp))\n",
    "        \n",
    "        if new_testX[5,1] != 47:\n",
    "            day_time = np.array([[new_testX[5,0],(new_testX[5,1]+1)]])\n",
    "        else:\n",
    "            if new_testX[5,0] == 7:\n",
    "                day_time = np.array([[1,0]])\n",
    "            else:\n",
    "                day_time = np.array([[(new_testX[5,0]+1),0]])\n",
    "        time_array = np.vstack((time_array,day_time))\n",
    "        seventh_data = np.hstack((day_time,test_predict[[-1],:]))\n",
    "        new_testX = np.vstack((new_testX[1:,:],seventh_data))"
   ]
  },
  {
   "cell_type": "code",
   "execution_count": 11,
   "metadata": {},
   "outputs": [
    {
     "data": {
      "text/plain": [
       "array([[0.6349317 , 0.6037711 , 0.6693879 , ..., 0.6590887 , 0.5397216 ,\n",
       "        0.44956884],\n",
       "       [0.59985167, 0.5762084 , 0.6557769 , ..., 0.63146406, 0.54426557,\n",
       "        0.464895  ],\n",
       "       [0.56971115, 0.54918826, 0.64933175, ..., 0.6102208 , 0.5545748 ,\n",
       "        0.48613024],\n",
       "       ...,\n",
       "       [0.6168003 , 0.59304154, 0.66025305, ..., 0.644546  , 0.545816  ,\n",
       "        0.4612351 ],\n",
       "       [0.6009035 , 0.57711315, 0.6616614 , ..., 0.6359661 , 0.5605833 ,\n",
       "        0.4836312 ],\n",
       "       [0.5821243 , 0.5581138 , 0.66530627, ..., 0.62706167, 0.5832517 ,\n",
       "        0.5162222 ]], dtype=float32)"
      ]
     },
     "execution_count": 11,
     "metadata": {},
     "output_type": "execute_result"
    }
   ],
   "source": [
    "test_predict"
   ]
  },
  {
   "cell_type": "code",
   "execution_count": 12,
   "metadata": {},
   "outputs": [
    {
     "ename": "SyntaxError",
     "evalue": "unexpected EOF while parsing (<ipython-input-12-3343b27e821b>, line 8)",
     "output_type": "error",
     "traceback": [
      "\u001b[0;36m  File \u001b[0;32m\"<ipython-input-12-3343b27e821b>\"\u001b[0;36m, line \u001b[0;32m8\u001b[0m\n\u001b[0;31m    test_predict_to_original = ReturnToOriginal(test_predict,data_max[train_size+seq_length:],data_min[train_size+seq_length:]\u001b[0m\n\u001b[0m                                                                                                                              ^\u001b[0m\n\u001b[0;31mSyntaxError\u001b[0m\u001b[0;31m:\u001b[0m unexpected EOF while parsing\n"
     ]
    }
   ],
   "source": [
    "# make data to original\n",
    "def ReturnToOriginal(data,data_max,data_min):\n",
    "    data_max = data_max+(1e-7)\n",
    "    for i in range(0,len(data)):\n",
    "        data[i,:]= (data[i,:]*data_max[i])-(data[i,:]-1)*data_min[i]\n",
    "    return data\n",
    "\n",
    "test_predict_to_original = ReturnToOriginal(test_predict,data_max[train_size+seq_length:],data_min[train_size+seq_length:]"
   ]
  },
  {
   "cell_type": "code",
   "execution_count": null,
   "metadata": {},
   "outputs": [],
   "source": []
  }
 ],
 "metadata": {
  "kernelspec": {
   "display_name": "Python 3",
   "language": "python",
   "name": "python3"
  },
  "language_info": {
   "codemirror_mode": {
    "name": "ipython",
    "version": 3
   },
   "file_extension": ".py",
   "mimetype": "text/x-python",
   "name": "python",
   "nbconvert_exporter": "python",
   "pygments_lexer": "ipython3",
   "version": "3.6.7"
  }
 },
 "nbformat": 4,
 "nbformat_minor": 2
}
